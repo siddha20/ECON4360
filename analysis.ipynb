{
 "cells": [
  {
   "cell_type": "code",
   "execution_count": 42,
   "metadata": {},
   "outputs": [
    {
     "name": "stdout",
     "output_type": "stream",
     "text": [
      "(102, 4) 176.0\n",
      "(102, 4) 181.0\n",
      "(102, 4) 132.0\n",
      "(102, 4) 137.0\n",
      "(0,)\n"
     ]
    }
   ],
   "source": [
    "import numpy as np\n",
    "import pandas as pd\n",
    "import statsmodels.api as sm\n",
    "import statsmodels.formula.api as smf\n",
    "from scipy import stats\n",
    "from tabulate import tabulate\n",
    "from statsmodels.iolib.summary2 import summary_col\n",
    "\n",
    "df = pd.read_csv(\"Group 2 Experiment.csv\")\n",
    "\n",
    "recol = []\n",
    "correct_recol = [7, 5, 3, 9, 5, 9,  \n",
    "                41022015, 80266500, 30894458, 34961041, 11712864, 63517353,\n",
    "                2, 6, 6, 4, 1, 4,\n",
    "                39295009, 62178411, 89374076, 46781487, 25154074, 33457307]\n",
    "\n",
    "# single digit\n",
    "risk_1 = [] # 1 is risky choice\n",
    "patience_1 = [] # 1 is earlier option\n",
    "\n",
    "# eight digits\n",
    "risk_8 = []\n",
    "patience_8 = []\n",
    "\n",
    "gender = [] # 1 is Female\n",
    "\n",
    "\n",
    "for index, row in df.iterrows():\n",
    "    temp_rq = []\n",
    "\n",
    "    # check for submission date\n",
    "    if not row[\"Timestamp\"][:10] == \"2023/04/06\":\n",
    "        continue\n",
    "\n",
    "    # print(index)\n",
    "    for i in range(1, 25):\n",
    "        rq = str(row[f\"Recollection Question.{i}\"])\n",
    "        rq = int(rq) if rq.isdigit() else 0\n",
    "        temp_rq.append(rq)\n",
    "\n",
    "        g = 0 if (str(row[\"How do you describe yourself? (Select all that apply)\"])[:4] == \"Male\") else 1 # 1 is female\n",
    "        lat = 1 if (str(row[\"Are you of Hispanic, Latino, or Spanish origin?\"])[:3] == \"Yes\") else 0 # 1 is hispanic/latino/spanish\n",
    "        white = 1 if (str(row[\"What is your race (choose all that apply)\"])[:5] == \"White\") else 0 # 1 is white\n",
    "        \n",
    "        # get all the risk answers\n",
    "        if 1 <= i and i <= 6:\n",
    "            # gender.append(g)\n",
    "            risk_1.append([1 if (str(row[f\"Unnamed: {2*i + 2}\"])[7:8] == \"B\") else 0, g, lat, white])\n",
    "            # print(str(row[f\"Unnamed: {2*i + 2}\"])[7:8], risk_1[-1])\n",
    "        if 7 <= i and i <=12:\n",
    "            risk_8.append([1 if (str(row[f\"Unnamed: {2*i + 2}\"])[7:8] == \"B\") else 0, g, lat, white])\n",
    " \n",
    "        # get all the patience answers\n",
    "        if 13 <= i and i <= 18:\n",
    "            patience_1.append([1 if (str(row[f\"Unnamed: {2*i + 2}\"])[7:8] == \"A\") else 0, g, lat, white])\n",
    "        if 19 <= i and i <= 24:\n",
    "            patience_8.append([1 if (str(row[f\"Unnamed: {2*i + 2}\"])[7:8] == \"A\") else 0, g, lat, white])\n",
    "\n",
    "    recol.append(temp_rq)\n",
    "\n",
    "\n",
    "\n",
    "correct_recol = np.asarray(correct_recol, dtype=np.int64)\n",
    "recol = np.asarray(recol, dtype=np.int64)\n",
    "\n",
    "risk_1 = np.asarray(risk_1, dtype=np.float32)\n",
    "risk_8 = np.asarray(risk_8, dtype=np.float32)\n",
    "\n",
    "patience_1 = np.asarray(patience_1, dtype=np.float32)\n",
    "patience_8 = np.asarray(patience_8, dtype=np.float32)\n",
    "\n",
    "gender = np.asarray(gender)\n",
    "print(risk_1.shape, np.sum(risk_1))\n",
    "print(risk_8.shape, np.sum(risk_8))\n",
    "print(patience_1.shape, np.sum(patience_1))\n",
    "print(patience_8.shape, np.sum(patience_8))\n",
    "print(gender.shape)"
   ]
  },
  {
   "cell_type": "code",
   "execution_count": 7,
   "metadata": {},
   "outputs": [
    {
     "name": "stdout",
     "output_type": "stream",
     "text": [
      "                                 1 Digit (% / # response)    8 Digit (% / # response)    Unpaired t-test\n",
      "-------------------------------  --------------------------  --------------------------  -----------------------\n",
      "Digit Memorization Correct       0.9754901960784313 / 408    0.5196078431372549 / 408    p=3.055761268390349e-30\n",
      "Risky Choice                     0.6078431606292725 / 102    0.656862735748291 / 102\n",
      "Risky Choice (Gain)              0.686274528503418 / 51      0.7450980544090271 / 51\n",
      "Risky Choice (Loss)              0.529411792755127 / 51      0.5686274766921997 / 51\n",
      "Risky Choice (Male)              0.6666666865348816 / 192    0.7135416865348816 / 192\n",
      "Risky Choice (Female)            0.5087719559669495 / 114    0.5614035129547119 / 114\n",
      "Early Option                     0.1764705926179886 / 102    0.22549019753932953 / 102\n",
      "Early Option (Today vs Today)    0.14705882352941177 / 68    0.20588235294117646 / 68\n",
      "Early Option (Future vs Future)  0.23529411764705882 / 34    0.2647058823529412 / 34\n",
      "Early Option (Male)              0.2291666716337204 / 192    0.25 / 192\n",
      "Early Option (Female)            0.08771929889917374 / 114   0.18421052396297455 / 114\n"
     ]
    }
   ],
   "source": [
    "'''\n",
    "These are preliminary statistics.\n",
    "Compare this to Table 3 in the paper\n",
    "'''\n",
    "\n",
    "diff = recol - correct_recol\n",
    "diff = np.where(diff != 0, diff, 1)\n",
    "diff = np.where(diff == 1, diff, 0)\n",
    "\n",
    "correct_1 = np.vstack((diff[:, 0:6], diff[:, 12:18])).ravel()\n",
    "correct_8 = np.vstack((diff[:, 6:12], diff[:, 18:24])).ravel()\n",
    "correct_1_p = np.mean(correct_1)\n",
    "correct_8_p = np.mean(correct_8)\n",
    "\n",
    "risky_1_p = np.mean(risk_1[:, :1])\n",
    "risky_8_p = np.mean(risk_8[:, :1])\n",
    "\n",
    "early_1_p = np.mean(patience_1[:, :1])\n",
    "early_8_p = np.mean(patience_8[:, :1])\n",
    "\n",
    "response_count = recol.shape[0] * recol.shape[1]\n",
    "\n",
    "risky_1_gain = risk_1[:, :1].reshape(-1, 3)[0::2].ravel()\n",
    "risky_1_loss = risk_1[:, :1].reshape(-1, 3)[1::2].ravel()\n",
    "\n",
    "risky_8_gain = risk_8[:, :1].reshape(-1, 3)[0::2].ravel()\n",
    "risky_8_loss = risk_8[:, :1].reshape(-1, 3)[1::2].ravel()\n",
    "\n",
    "early_1_today = np.asarray([i[[0, 2, 3, 5]].tolist() for i in patience_1[:, :1].reshape(-1, 6)]).ravel()\n",
    "early_1_future = np.asarray([i[[1, 4]].tolist() for i in patience_1[:, :1].reshape(-1, 6)]).ravel()\n",
    "\n",
    "early_8_today = np.asarray([i[[0, 2, 3, 5]].tolist() for i in patience_8[:, :1].reshape(-1, 6)]).ravel()\n",
    "early_8_future = np.asarray([i[[1, 4]].tolist() for i in patience_8[:, :1].reshape(-1, 6)]).ravel()\n",
    "\n",
    "risky_1_male = risk_1[:, :1][np.argwhere(risk_1[:, 1:] == 0)[:, :1].ravel()] \n",
    "risky_1_female = risk_1[:, :1][np.argwhere(risk_1[:, 1:] == 1)[:, :1].ravel()]\n",
    "\n",
    "risky_8_male = risk_8[:, :1][np.argwhere(risk_1[:, 1:] == 0)[:, :1].ravel()] \n",
    "risky_8_female = risk_8[:, :1][np.argwhere(risk_1[:, 1:] == 1)[:, :1].ravel()]\n",
    "\n",
    "early_1_male = patience_1[:, :1][np.argwhere(patience_1[:, 1:] == 0)[:, :1].ravel()] \n",
    "early_1_female = patience_1[:, :1][np.argwhere(patience_1[:, 1:] == 1)[:, :1].ravel()]\n",
    "\n",
    "early_8_male = patience_8[:, :1][np.argwhere(patience_1[:, 1:] == 0)[:, :1].ravel()] \n",
    "early_8_female = patience_8[:, :1][np.argwhere(patience_1[:, 1:] == 1)[:, :1].ravel()]\n",
    "\n",
    "print(tabulate([[\"\", \"1 Digit (% / # response)\", \"8 Digit (% / # response)\", \"Unpaired t-test\"], \n",
    "                [\"Digit Memorization Correct\", f\"{correct_1_p} / {response_count}\", f\"{correct_8_p} / {response_count}\", f\"p={stats.ttest_ind(correct_1, correct_8)[1]}\"],\n",
    "                [\"Risky Choice\", f\"{risky_1_p} / {risk_1[:, :1].shape[0]}\", f\"{risky_8_p} / {risk_8[:, :1].shape[0]}\"],\n",
    "                [\"Risky Choice (Gain)\", f\"{np.mean(risky_1_gain)} / {risky_1_gain.shape[0]}\", f\"{np.mean(risky_8_gain)} / {risky_8_gain.shape[0]}\"],\n",
    "                [\"Risky Choice (Loss)\", f\"{np.mean(risky_1_loss)} / {risky_1_loss.shape[0]}\", f\"{np.mean(risky_8_loss)} / {risky_8_loss.shape[0]}\"],\n",
    "                [\"Risky Choice (Male)\", f\"{np.mean(risky_1_male)} / {risky_1_male.shape[0]}\", f\"{np.mean(risky_8_male)} / {risky_8_male.shape[0]}\"],\n",
    "                [\"Risky Choice (Female)\", f\"{np.mean(risky_1_female)} / {risky_1_female.shape[0]}\", f\"{np.mean(risky_8_female)} / {risky_8_female.shape[0]}\"],\n",
    "                [\"Early Option\", f\"{early_1_p} / {patience_1[:, :1].shape[0]}\", f\"{early_8_p} / {patience_8[:, :1].shape[0]}\"],\n",
    "                [\"Early Option (Today vs Today)\", f\"{np.mean(early_1_today)} / {early_1_today.shape[0]}\", f\"{np.mean(early_8_today)} / {early_8_today.shape[0]}\"],\n",
    "                [\"Early Option (Future vs Future)\", f\"{np.mean(early_1_future)} / {early_1_future.shape[0]}\", f\"{np.mean(early_8_future)} / {early_8_future.shape[0]}\"],\n",
    "                [\"Early Option (Male)\", f\"{np.mean(early_1_male)} / {early_1_male.shape[0]}\", f\"{np.mean(early_8_male)} / {early_8_male.shape[0]}\"],\n",
    "                [\"Early Option (Female)\", f\"{np.mean(early_1_female)} / {early_1_female.shape[0]}\", f\"{np.mean(early_8_female)} / {early_8_female.shape[0]}\"]],\n",
    "                headers=\"firstrow\"))\n",
    "# stats.ttest_ind(risk_1[:, :1].ravel(), risk_8[:, :1].ravel())[1]"
   ]
  },
  {
   "cell_type": "code",
   "execution_count": 79,
   "metadata": {},
   "outputs": [
    {
     "data": {
      "text/html": [
       "<table style=\"text-align:center\"><tr><td colspan=\"4\" style=\"border-bottom: 1px solid black\"></td></tr><tr><td style=\"text-align:left\"></td><td colspan=\"3\"><em>Dependent variable:RiskyChoice</em></td></tr><tr><td style=\"text-align:left\"></td><tr><td style=\"text-align:left\"></td><td>(1)</td><td>(2)</td><td>(3)</td></tr><tr><td colspan=\"4\" style=\"border-bottom: 1px solid black\"></td></tr><tr><td style=\"text-align:left\">EightDigitNum</td><td>0.049<sup></sup></td><td>0.049<sup></sup></td><td>0.049<sup></sup></td></tr><tr><td style=\"text-align:left\"></td><td>(0.068)</td><td>(0.065)</td><td>(0.064)</td></tr><tr><td style=\"text-align:left\">Female</td><td></td><td>-0.309<sup>***</sup></td><td>-0.366<sup>***</sup></td></tr><tr><td style=\"text-align:left\"></td><td></td><td>(0.077)</td><td>(0.083)</td></tr><tr><td style=\"text-align:left\">Intercept</td><td>0.608<sup>***</sup></td><td>0.681<sup>***</sup></td><td>0.725<sup>***</sup></td></tr><tr><td style=\"text-align:left\"></td><td>(0.048)</td><td>(0.050)</td><td>(0.073)</td></tr><tr><td style=\"text-align:left\">Lat_His_Span</td><td></td><td></td><td>-0.345<sup>***</sup></td></tr><tr><td style=\"text-align:left\"></td><td></td><td></td><td>(0.106)</td></tr><tr><td style=\"text-align:left\">White</td><td></td><td></td><td>0.012<sup></sup></td></tr><tr><td style=\"text-align:left\"></td><td></td><td></td><td>(0.083)</td></tr><td colspan=\"4\" style=\"border-bottom: 1px solid black\"></td></tr><tr><td style=\"text-align: left\">Observations</td><td>204</td><td>204</td><td>204</td></tr><tr><td style=\"text-align: left\">R<sup>2</sup></td><td>0.003</td><td>0.077</td><td>0.126</td></tr><tr><td style=\"text-align: left\">Adjusted R<sup>2</sup></td><td>-0.002</td><td>0.067</td><td>0.109</td></tr><tr><td style=\"text-align: left\">Residual Std. Error</td><td>0.484 (df=202)</td><td>0.467 (df=201)</td><td>0.456 (df=199)</td></tr><tr><td style=\"text-align: left\">F Statistic</td><td>0.523<sup></sup> (df=1; 202)</td><td>8.340<sup>***</sup> (df=2; 201)</td><td>7.203<sup>***</sup> (df=4; 199)</td></tr><tr><td colspan=\"4\" style=\"border-bottom: 1px solid black\"></td></tr><tr><td style=\"text-align: left\">Note:</td>\n",
       " <td colspan=\"3\" style=\"text-align: right\">\n",
       "  <sup>*</sup>p&lt;0.1;\n",
       "  <sup>**</sup>p&lt;0.05;\n",
       "  <sup>***</sup>p&lt;0.01\n",
       " </td></tr></table>"
      ],
      "text/plain": [
       "<stargazer.stargazer.Stargazer at 0x2824aee9ac0>"
      ]
     },
     "execution_count": 79,
     "metadata": {},
     "output_type": "execute_result"
    }
   ],
   "source": [
    "'''\n",
    "This summary is for 8 digit DV versus risky choice chosen. \n",
    "Compare this to Model 2a in Table 4 in the paper.\n",
    "'''\n",
    "\n",
    "\n",
    "df1 = pd.DataFrame({\"Constant\": np.ones(shape=(risk_1.shape[0] + risk_8.shape[0], 1)).T[0],\n",
    "                   \"EightDigitNum\": np.vstack((np.ones(shape=(risk_8.shape[0], 1)), np.zeros(shape=(risk_1.shape[0], 1)))).T[0],\n",
    "                   \"Female\": np.vstack((risk_8[:, 1:2], risk_1[:, 1:2])).T[0], \n",
    "                   \"Lat_His_Span\": np.vstack((risk_8[:, 2:3], risk_1[:, 2:3])).T[0],\n",
    "                   \"White\": np.vstack((risk_8[:, 3:4], risk_1[:, 3:4])).T[0],\n",
    "                   \"RiskyChoice\": np.vstack((risk_8[:, :1], risk_1[:, :1])).T[0]})\n",
    "\n",
    "r1 = smf.ols(\"RiskyChoice ~ EightDigitNum\", data=df1).fit()\n",
    "r2 = smf.ols(\"RiskyChoice ~ EightDigitNum + Female\", data=df1).fit()\n",
    "r3 = smf.ols(\"RiskyChoice ~ EightDigitNum + Female + Lat_His_Span + White\", data=df1).fit()\n",
    "sg1 = Stargazer([r1, r2, r3])\n",
    "# print(sg1.render_latex())\n",
    "sg1"
   ]
  },
  {
   "cell_type": "code",
   "execution_count": 78,
   "metadata": {},
   "outputs": [
    {
     "data": {
      "text/html": [
       "<table style=\"text-align:center\"><tr><td colspan=\"4\" style=\"border-bottom: 1px solid black\"></td></tr><tr><td style=\"text-align:left\"></td><td colspan=\"3\"><em>Dependent variable:EarlierOption</em></td></tr><tr><td style=\"text-align:left\"></td><tr><td style=\"text-align:left\"></td><td>(1)</td><td>(2)</td><td>(3)</td></tr><tr><td colspan=\"4\" style=\"border-bottom: 1px solid black\"></td></tr><tr><td style=\"text-align:left\">EightDigitNum</td><td>0.049<sup></sup></td><td>0.049<sup></sup></td><td>0.049<sup></sup></td></tr><tr><td style=\"text-align:left\"></td><td>(0.056)</td><td>(0.056)</td><td>(0.055)</td></tr><tr><td style=\"text-align:left\">Female</td><td></td><td>-0.072<sup></sup></td><td>-0.057<sup></sup></td></tr><tr><td style=\"text-align:left\"></td><td></td><td>(0.066)</td><td>(0.071)</td></tr><tr><td style=\"text-align:left\">Intercept</td><td>0.176<sup>***</sup></td><td>0.193<sup>***</sup></td><td>0.330<sup>***</sup></td></tr><tr><td style=\"text-align:left\"></td><td>(0.040)</td><td>(0.043)</td><td>(0.063)</td></tr><tr><td style=\"text-align:left\">Lat_His_Span</td><td></td><td></td><td>-0.202<sup>**</sup></td></tr><tr><td style=\"text-align:left\"></td><td></td><td></td><td>(0.090)</td></tr><tr><td style=\"text-align:left\">White</td><td></td><td></td><td>-0.152<sup>**</sup></td></tr><tr><td style=\"text-align:left\"></td><td></td><td></td><td>(0.071)</td></tr><td colspan=\"4\" style=\"border-bottom: 1px solid black\"></td></tr><tr><td style=\"text-align: left\">Observations</td><td>204</td><td>204</td><td>204</td></tr><tr><td style=\"text-align: left\">R<sup>2</sup></td><td>0.004</td><td>0.010</td><td>0.072</td></tr><tr><td style=\"text-align: left\">Adjusted R<sup>2</sup></td><td>-0.001</td><td>-0.000</td><td>0.054</td></tr><tr><td style=\"text-align: left\">Residual Std. Error</td><td>0.402 (df=202)</td><td>0.402 (df=201)</td><td>0.391 (df=199)</td></tr><tr><td style=\"text-align: left\">F Statistic</td><td>0.758<sup></sup> (df=1; 202)</td><td>0.971<sup></sup> (df=2; 201)</td><td>3.870<sup>***</sup> (df=4; 199)</td></tr><tr><td colspan=\"4\" style=\"border-bottom: 1px solid black\"></td></tr><tr><td style=\"text-align: left\">Note:</td>\n",
       " <td colspan=\"3\" style=\"text-align: right\">\n",
       "  <sup>*</sup>p&lt;0.1;\n",
       "  <sup>**</sup>p&lt;0.05;\n",
       "  <sup>***</sup>p&lt;0.01\n",
       " </td></tr></table>"
      ],
      "text/plain": [
       "<stargazer.stargazer.Stargazer at 0x2824aee9310>"
      ]
     },
     "execution_count": 78,
     "metadata": {},
     "output_type": "execute_result"
    }
   ],
   "source": [
    "'''\n",
    "This summary is for 8 digit DV versus earlier option chosen. \n",
    "Compare this to Model 3a in Table 4 in the paper.\n",
    "'''\n",
    "\n",
    "df2 = pd.DataFrame({\"Constant\": np.ones(shape=(patience_1.shape[0] + patience_8.shape[0], 1)).T[0],\n",
    "                   \"EightDigitNum\": np.vstack((np.ones(shape=(patience_8.shape[0], 1)), np.zeros(shape=(patience_1.shape[0], 1)))).T[0],\n",
    "                   \"Female\": np.vstack((patience_8[:, 1:2], patience_1[:, 1:2])).T[0], \n",
    "                   \"Lat_His_Span\": np.vstack((patience_8[:, 2:3], patience_1[:, 2:3])).T[0],\n",
    "                   \"White\": np.vstack((patience_8[:, 3:4], patience_1[:, 3:4])).T[0],\n",
    "                   \"EarlierOption\": np.vstack((patience_8[:, :1], patience_1[:, :1])).T[0]})\n",
    "\n",
    "r1 = smf.ols(\"EarlierOption ~ EightDigitNum\", data=df2).fit()\n",
    "r2 = smf.ols(\"EarlierOption ~ EightDigitNum + Female\", data=df2).fit()\n",
    "r3 = smf.ols(\"EarlierOption ~ EightDigitNum + Female + Lat_His_Span + White\", data=df2).fit()\n",
    "sg2 = Stargazer([r1, r2, r3])\n",
    "# print(sg2.render_latex())\n",
    "sg2"
   ]
  }
 ],
 "metadata": {
  "kernelspec": {
   "display_name": "Python 3",
   "language": "python",
   "name": "python3"
  },
  "language_info": {
   "codemirror_mode": {
    "name": "ipython",
    "version": 3
   },
   "file_extension": ".py",
   "mimetype": "text/x-python",
   "name": "python",
   "nbconvert_exporter": "python",
   "pygments_lexer": "ipython3",
   "version": "3.9.9"
  },
  "orig_nbformat": 4
 },
 "nbformat": 4,
 "nbformat_minor": 2
}
