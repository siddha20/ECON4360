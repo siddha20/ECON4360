{
 "cells": [
  {
   "cell_type": "code",
   "execution_count": 303,
   "metadata": {},
   "outputs": [
    {
     "name": "stdout",
     "output_type": "stream",
     "text": [
      "(102,) 62.0\n",
      "(102,) 67.0\n",
      "(102,) 18.0\n",
      "(102,) 23.0\n",
      "(102,)\n"
     ]
    }
   ],
   "source": [
    "import numpy as np\n",
    "import pandas as pd\n",
    "import statsmodels.api as sm\n",
    "from tabulate import tabulate\n",
    "\n",
    "df = pd.read_csv(\"Group 2 Experiment.csv\")\n",
    "\n",
    "recol = []\n",
    "correct_recol = [7, 5, 3, 9, 5, 9,  \n",
    "                41022015, 80266500, 30894458, 34961041, 11712864, 63517353,\n",
    "                2, 6, 6, 4, 1, 4,\n",
    "                39295009, 62178411, 89374076, 46781487, 25154074, 33457307]\n",
    "\n",
    "# single digit\n",
    "risk_1 = [] # 1 is risky choice\n",
    "patience_1 = [] # 1 is earlier option\n",
    "\n",
    "# eight digits\n",
    "risk_8 = []\n",
    "patience_8 = []\n",
    "\n",
    "gender = [] # 1 is male\n",
    "\n",
    "for index, row in df.iterrows():\n",
    "    temp_rq = []\n",
    "\n",
    "    # check for submission date\n",
    "    if not row[\"Timestamp\"][:10] == \"2023/04/06\":\n",
    "        continue\n",
    "\n",
    "    # print(index)\n",
    "    for i in range(1, 25):\n",
    "        rq = str(row[f\"Recollection Question.{i}\"])\n",
    "        rq = int(rq) if rq.isdigit() else 0\n",
    "        temp_rq.append(rq)\n",
    "\n",
    "        g = 1 if (str(row[\"How do you describe yourself? (Select all that apply)\"])[:4] == \"Male\") else 0\n",
    "\n",
    "        # get all the risk answers\n",
    "        if 1 <= i and i <= 6:\n",
    "            gender.append(g)\n",
    "            risk_1.append(1 if (str(row[f\"Unnamed: {2*i + 2}\"])[7:8] == \"B\") else 0)\n",
    "            # print(str(row[f\"Unnamed: {2*i + 2}\"])[7:8], risk_1[-1])\n",
    "        if 7 <= i and i <=12:\n",
    "            risk_8.append(1 if (str(row[f\"Unnamed: {2*i + 2}\"])[7:8] == \"B\") else 0)\n",
    " \n",
    "        # get all the patience answers\n",
    "        if 13 <= i and i <= 18:\n",
    "            patience_1.append(1 if (str(row[f\"Unnamed: {2*i + 2}\"])[7:8] == \"A\") else 0)\n",
    "        if 19 <= i and i <= 24:\n",
    "            patience_8.append(1 if (str(row[f\"Unnamed: {2*i + 2}\"])[7:8] == \"A\") else 0)\n",
    "\n",
    "    recol.append(temp_rq)\n",
    "\n",
    "\n",
    "\n",
    "correct_recol = np.asarray(correct_recol, dtype=np.int64)\n",
    "recol = np.asarray(recol, dtype=np.int64)\n",
    "\n",
    "risk_1 = np.asarray(risk_1, dtype=np.float32)\n",
    "risk_8 = np.asarray(risk_8, dtype=np.float32)\n",
    "\n",
    "patience_1 = np.asarray(patience_1, dtype=np.float32)\n",
    "patience_8 = np.asarray(patience_8, dtype=np.float32)\n",
    "\n",
    "gender = np.asarray(gender)\n",
    "print(risk_1.shape, np.sum(risk_1))\n",
    "print(risk_8.shape, np.sum(risk_8))\n",
    "print(patience_1.shape, np.sum(patience_1))\n",
    "print(patience_8.shape, np.sum(patience_8))\n",
    "print(gender.shape)"
   ]
  },
  {
   "cell_type": "code",
   "execution_count": 304,
   "metadata": {},
   "outputs": [
    {
     "name": "stdout",
     "output_type": "stream",
     "text": [
      "                            1 Digit (% / # response)    8 Digit (% / # response)\n",
      "--------------------------  --------------------------  --------------------------\n",
      "Digit Memorization Correct  0.9754901960784313 / 408    0.5196078431372549 / 408\n",
      "Risky Choice                0.6078431372549019 / 102    0.6568627450980392 / 102\n",
      "Early Option                0.17647058823529413 / 102   0.22549019607843138 / 102\n"
     ]
    }
   ],
   "source": [
    "'''\n",
    "These are preliminary statistics.\n",
    "Compare this to Table 3 in the paper\n",
    "'''\n",
    "\n",
    "diff = recol - correct_recol\n",
    "diff = np.where(diff != 0, diff, 1)\n",
    "diff = np.where(diff == 1, diff, 0)\n",
    "\n",
    "correct_1_p = np.mean([np.mean(diff[:, 0:6]), np.mean(diff[:, 12:18])])\n",
    "correct_8_p = np.mean([np.mean(diff[:, 6:12]), np.mean(diff[:, 18:24])])\n",
    "\n",
    "risky_1_p = np.sum(risk_1)/risk_1.shape[0]\n",
    "risky_8_p = np.sum(risk_8)/risk_8.shape[0]\n",
    "\n",
    "early_1_p = np.sum(patience_1)/patience_1.shape[0]\n",
    "early_8_p = np.sum(patience_8)/patience_8.shape[0]\n",
    "\n",
    "response_count = recol.shape[0] * recol.shape[1]\n",
    "\n",
    "print(tabulate([[\"\", \"1 Digit (% / # response)\", \"8 Digit (% / # response)\"], \n",
    "                [\"Digit Memorization Correct\", f\"{correct_1_p} / {response_count}\", f\"{correct_8_p} / {response_count}\"],\n",
    "                [\"Risky Choice\", f\"{risky_1_p} / {risk_1.shape[0]}\", f\"{risky_8_p} / {risk_8.shape[0]}\"],\n",
    "                [\"Early Option\", f\"{early_1_p} / {patience_1.shape[0]}\", f\"{early_8_p} / {patience_8.shape[0]}\"]]\n",
    "                , headers=\"firstrow\"))"
   ]
  },
  {
   "cell_type": "code",
   "execution_count": 305,
   "metadata": {},
   "outputs": [
    {
     "name": "stdout",
     "output_type": "stream",
     "text": [
      "                  Results: Ordinary least squares\n",
      "====================================================================\n",
      "Model:              OLS                 Adj. R-squared:     0.067   \n",
      "Dependent Variable: Risky Choice Chosen AIC:                271.0409\n",
      "Date:               2023-04-07 08:34    BIC:                280.9952\n",
      "No. Observations:   204                 Log-Likelihood:     -132.52 \n",
      "Df Model:           2                   F-statistic:        8.340   \n",
      "Df Residuals:       201                 Prob (F-statistic): 0.000332\n",
      "R-squared:          0.077               Scale:              0.21787 \n",
      "---------------------------------------------------------------------\n",
      "                    Coef.   Std.Err.    t     P>|t|    [0.025  0.975]\n",
      "---------------------------------------------------------------------\n",
      "Constant            0.3713    0.0749  4.9589  0.0000   0.2237  0.5190\n",
      "8-Digit Number      0.0490    0.0654  0.7500  0.4541  -0.0799  0.1779\n",
      "Gender              0.3093    0.0770  4.0146  0.0001   0.1574  0.4612\n",
      "--------------------------------------------------------------------\n",
      "Omnibus:              315.193        Durbin-Watson:           1.266 \n",
      "Prob(Omnibus):        0.000          Jarque-Bera (JB):        25.111\n",
      "Skew:                 -0.524         Prob(JB):                0.000 \n",
      "Kurtosis:             1.637          Condition No.:           4     \n",
      "====================================================================\n",
      "\n"
     ]
    }
   ],
   "source": [
    "'''\n",
    "This summary is for 8 digit DV versus risky choice chosen. \n",
    "Compare this to Model 2a in Table 4 in the paper.\n",
    "'''\n",
    "\n",
    "risk_x = np.hstack((np.ones(risk_8.shape), np.zeros(risk_1.shape)))\n",
    "risk_x = np.stack((np.ones(risk_x.shape), risk_x, np.hstack((gender, gender))), axis=1) # add intercept and gender\n",
    "# risk_x = np.stack((np.ones(risk_x.shape), risk_x,), axis=1) # add intercept\n",
    "risk_y = np.hstack((risk_8, risk_1))\n",
    "\n",
    "res1 = sm.OLS(risk_y, risk_x).fit()\n",
    "print(res1.summary2(xname=[\"Constant\", \"8-Digit Number\", \"Gender\"], yname=\"Risky Choice Chosen\"))"
   ]
  },
  {
   "cell_type": "code",
   "execution_count": 306,
   "metadata": {},
   "outputs": [
    {
     "name": "stdout",
     "output_type": "stream",
     "text": [
      "                   Results: Ordinary least squares\n",
      "======================================================================\n",
      "Model:              OLS                   Adj. R-squared:     -0.000  \n",
      "Dependent Variable: Earlier Option Chosen AIC:                209.8665\n",
      "Date:               2023-04-07 08:34      BIC:                219.8208\n",
      "No. Observations:   204                   Log-Likelihood:     -101.93 \n",
      "Df Model:           2                     F-statistic:        0.9709  \n",
      "Df Residuals:       201                   Prob (F-statistic): 0.381   \n",
      "R-squared:          0.010                 Scale:              0.16142 \n",
      "------------------------------------------------------------------------\n",
      "                  Coef.    Std.Err.     t      P>|t|     [0.025   0.975]\n",
      "------------------------------------------------------------------------\n",
      "Constant          0.1213     0.0645   1.8823   0.0612   -0.0058   0.2484\n",
      "8-Digit Number    0.0490     0.0563   0.8713   0.3846   -0.0619   0.1600\n",
      "Gender            0.0721     0.0663   1.0875   0.2781   -0.0586   0.2029\n",
      "----------------------------------------------------------------------\n",
      "Omnibus:               46.365         Durbin-Watson:            1.420 \n",
      "Prob(Omnibus):         0.000          Jarque-Bera (JB):         73.466\n",
      "Skew:                  1.466          Prob(JB):                 0.000 \n",
      "Kurtosis:              3.207          Condition No.:            4     \n",
      "======================================================================\n",
      "\n"
     ]
    }
   ],
   "source": [
    "'''\n",
    "This summary is for 8 digit DV versus earlier option chosen. \n",
    "Compare this to Model 3a in Table 4 in the paper.\n",
    "'''\n",
    "\n",
    "patience_x = np.hstack((np.ones(patience_8.shape), np.zeros(patience_1.shape)))\n",
    "patience_x = np.stack((np.ones(patience_x.shape), patience_x, np.hstack((gender, gender))), axis=1) # add intercept and gender\n",
    "# patience_x = np.stack((np.ones(patience_x.shape), patience_x,), axis=1) # add intercept\n",
    "patience_y = np.hstack((patience_8, patience_1))\n",
    "\n",
    "res1 = sm.OLS(patience_y, patience_x).fit()\n",
    "print(res1.summary2(xname=[\"Constant\", \"8-Digit Number\", \"Gender\"], yname=\"Earlier Option Chosen\"))"
   ]
  }
 ],
 "metadata": {
  "kernelspec": {
   "display_name": "Python 3",
   "language": "python",
   "name": "python3"
  },
  "language_info": {
   "name": "python",
   "version": "3.9.9"
  },
  "orig_nbformat": 4
 },
 "nbformat": 4,
 "nbformat_minor": 2
}
